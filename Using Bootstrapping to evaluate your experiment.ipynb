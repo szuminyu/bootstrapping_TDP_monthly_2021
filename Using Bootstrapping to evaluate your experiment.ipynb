{
 "cells": [
  {
   "cell_type": "markdown",
   "metadata": {},
   "source": [
    "# Using Boostrapping to evaluate your experiment\n",
    "\n",
    "### Monthly talk on Taiwanese Data Professionals, 2021-02-24 Wed \n",
    "- Author: Szu-Min Yu, Data Scientist at CVS Health\n",
    "- Goal:\n",
    "This notebook will briefly demonstrate the process of boostrapping your data and evaluate the insterested metric (which is the conversion rate here)."
   ]
  },
  {
   "cell_type": "code",
   "execution_count": 1,
   "metadata": {},
   "outputs": [],
   "source": [
    "#Import your packages\n",
    "\n",
    "import pandas as pd\n",
    "import numpy as np\n",
    "import matplotlib.pyplot as plt\n",
    "import seaborn as sns\n",
    "import statsmodels.api as sm"
   ]
  },
  {
   "cell_type": "code",
   "execution_count": 2,
   "metadata": {},
   "outputs": [
    {
     "data": {
      "text/html": [
       "<div>\n",
       "<style scoped>\n",
       "    .dataframe tbody tr th:only-of-type {\n",
       "        vertical-align: middle;\n",
       "    }\n",
       "\n",
       "    .dataframe tbody tr th {\n",
       "        vertical-align: top;\n",
       "    }\n",
       "\n",
       "    .dataframe thead th {\n",
       "        text-align: right;\n",
       "    }\n",
       "</style>\n",
       "<table border=\"1\" class=\"dataframe\">\n",
       "  <thead>\n",
       "    <tr style=\"text-align: right;\">\n",
       "      <th></th>\n",
       "      <th>test</th>\n",
       "      <th>cntrl</th>\n",
       "    </tr>\n",
       "  </thead>\n",
       "  <tbody>\n",
       "    <tr>\n",
       "      <td>0</td>\n",
       "      <td>0</td>\n",
       "      <td>0</td>\n",
       "    </tr>\n",
       "    <tr>\n",
       "      <td>1</td>\n",
       "      <td>0</td>\n",
       "      <td>0</td>\n",
       "    </tr>\n",
       "    <tr>\n",
       "      <td>2</td>\n",
       "      <td>0</td>\n",
       "      <td>0</td>\n",
       "    </tr>\n",
       "    <tr>\n",
       "      <td>3</td>\n",
       "      <td>0</td>\n",
       "      <td>0</td>\n",
       "    </tr>\n",
       "    <tr>\n",
       "      <td>4</td>\n",
       "      <td>1</td>\n",
       "      <td>0</td>\n",
       "    </tr>\n",
       "  </tbody>\n",
       "</table>\n",
       "</div>"
      ],
      "text/plain": [
       "   test  cntrl\n",
       "0     0      0\n",
       "1     0      0\n",
       "2     0      0\n",
       "3     0      0\n",
       "4     1      0"
      ]
     },
     "execution_count": 2,
     "metadata": {},
     "output_type": "execute_result"
    }
   ],
   "source": [
    "#Build the stimulated data for test and control\n",
    "#Here I stimulate 1000 people from both groups with conversion rate in test as 2% and control as 1.5% \n",
    "\n",
    "test = np.random.choice(a = np.arange(0,2), size = 1000, p = [0.98 , 0.02])\n",
    "control = np.random.choice(a = np.arange(0,2), size = 1000, p = [0.985, 0.015])\n",
    "\n",
    "data = pd.DataFrame({'test': test, 'cntrl': control})\n",
    "data.head()"
   ]
  },
  {
   "cell_type": "code",
   "execution_count": 9,
   "metadata": {},
   "outputs": [],
   "source": [
    "def resampling(dataframe, i):\n",
    "    \n",
    "    '''\n",
    "    This function is used for resampling.\n",
    "    \n",
    "    data: your dataset\n",
    "    i: the number of iternation\n",
    "    \n",
    "    '''\n",
    "    \n",
    "    # 1.resample your data, replace will be True because boostrapping allows replacement\n",
    "\n",
    "    df = dataframe.sample(frac = 1, replace = True)\n",
    "\n",
    "    # 2. get the difference in conversion rate and the number of iteration\n",
    "    df1 = df.mean().reset_index()\n",
    "    df1.columns = ['group','value']\n",
    "    df1 = df1.pivot_table(columns = ['group'])\n",
    "    df1['diff'] = df1['test'] - df1['cntrl']\n",
    "    df1['delta'] = df1['diff'] > 0\n",
    "    \n",
    "    return df1"
   ]
  },
  {
   "cell_type": "code",
   "execution_count": 10,
   "metadata": {},
   "outputs": [
    {
     "data": {
      "text/html": [
       "<div>\n",
       "<style scoped>\n",
       "    .dataframe tbody tr th:only-of-type {\n",
       "        vertical-align: middle;\n",
       "    }\n",
       "\n",
       "    .dataframe tbody tr th {\n",
       "        vertical-align: top;\n",
       "    }\n",
       "\n",
       "    .dataframe thead th {\n",
       "        text-align: right;\n",
       "    }\n",
       "</style>\n",
       "<table border=\"1\" class=\"dataframe\">\n",
       "  <thead>\n",
       "    <tr style=\"text-align: right;\">\n",
       "      <th>group</th>\n",
       "      <th>cntrl</th>\n",
       "      <th>test</th>\n",
       "      <th>diff</th>\n",
       "      <th>delta</th>\n",
       "    </tr>\n",
       "  </thead>\n",
       "  <tbody>\n",
       "    <tr>\n",
       "      <td>0</td>\n",
       "      <td>0.009</td>\n",
       "      <td>0.019</td>\n",
       "      <td>0.010</td>\n",
       "      <td>True</td>\n",
       "    </tr>\n",
       "    <tr>\n",
       "      <td>1</td>\n",
       "      <td>0.012</td>\n",
       "      <td>0.023</td>\n",
       "      <td>0.011</td>\n",
       "      <td>True</td>\n",
       "    </tr>\n",
       "    <tr>\n",
       "      <td>2</td>\n",
       "      <td>0.014</td>\n",
       "      <td>0.018</td>\n",
       "      <td>0.004</td>\n",
       "      <td>True</td>\n",
       "    </tr>\n",
       "    <tr>\n",
       "      <td>3</td>\n",
       "      <td>0.011</td>\n",
       "      <td>0.023</td>\n",
       "      <td>0.012</td>\n",
       "      <td>True</td>\n",
       "    </tr>\n",
       "    <tr>\n",
       "      <td>4</td>\n",
       "      <td>0.009</td>\n",
       "      <td>0.018</td>\n",
       "      <td>0.009</td>\n",
       "      <td>True</td>\n",
       "    </tr>\n",
       "  </tbody>\n",
       "</table>\n",
       "</div>"
      ],
      "text/plain": [
       "group  cntrl   test   diff  delta\n",
       "0      0.009  0.019  0.010   True\n",
       "1      0.012  0.023  0.011   True\n",
       "2      0.014  0.018  0.004   True\n",
       "3      0.011  0.023  0.012   True\n",
       "4      0.009  0.018  0.009   True"
      ]
     },
     "execution_count": 10,
     "metadata": {},
     "output_type": "execute_result"
    }
   ],
   "source": [
    "# get all bootstrapped data\n",
    "\n",
    "bootstrapped = pd.concat([resampling(dataframe = data, i = i) for i in range(0,5000)])\n",
    "bootstrapped.index = np.arange(0, bootstrapped.shape[0])\n",
    "\n",
    "bootstrapped.head()"
   ]
  },
  {
   "cell_type": "code",
   "execution_count": 11,
   "metadata": {},
   "outputs": [
    {
     "data": {
      "image/png": "[encoded data removed]",
      "text/plain": [
       "<Figure size 432x288 with 1 Axes>"
      ]
     },
     "metadata": {
      "needs_background": "light"
     },
     "output_type": "display_data"
    }
   ],
   "source": [
    "plt.figure()\n",
    "ax = sns.distplot(bootstrapped['test'], label = 'test', hist = False, color = 'blue')\n",
    "ax = sns.distplot(bootstrapped['cntrl'], label = 'control', hist = False, color = 'orange')\n",
    "ax.set_ylabel('Frequency across bootstrapped samples')\n",
    "ax.set_xlabel('Conversion')\n",
    "plt.legend()\n",
    "plt.show()"
   ]
  },
  {
   "cell_type": "code",
   "execution_count": 12,
   "metadata": {},
   "outputs": [
    {
     "name": "stdout",
     "output_type": "stream",
     "text": [
      "p-value:  0.03760\n",
      "Mean difference in conversion is significant at 0.05 level\n",
      "95% confidence interval [0.95713, 0.96767]\n"
     ]
    }
   ],
   "source": [
    "# calculate p-value and confidence interval\n",
    "\n",
    "p_value = 1 - bootstrapped['delta'].mean()\n",
    "\n",
    "print('p-value: ', '{:0.5f}'.format(p_value))\n",
    "if p_value < 0.05:\n",
    "    print('Mean difference in conversion is significant at 0.05 level')\n",
    "else: print('Mean difference in conversion is NOT significant at 0.05 level')\n",
    "\n",
    "lower, upper = sm.stats.DescrStatsW(bootstrapped['delta']).tconfint_mean()\n",
    "print('95% confidence interval', '[{:0.5f}, {:0.5f}]'.format(lower, upper))"
   ]
  },
  {
   "cell_type": "markdown",
   "metadata": {},
   "source": [
    "#### Clean and compile all code into class"
   ]
  },
  {
   "cell_type": "code",
   "execution_count": 3,
   "metadata": {},
   "outputs": [],
   "source": [
    "class bootstrapping:\n",
    "    \n",
    "    def resampling(self, dataframe, i):\n",
    "        \n",
    "        '''\n",
    "        This function is used for resampling.\n",
    "\n",
    "        dataframe: your dataset\n",
    "        i: the number of iternation\n",
    "        '''\n",
    "\n",
    "        # 1.resample your data, replace will be True because boostrapping allows replacement\n",
    "\n",
    "        df = dataframe.sample(frac = 1, replace = True)\n",
    "\n",
    "        # 2. get the difference in conversion rate and the number of iteration\n",
    "        df1 = df.mean().reset_index()\n",
    "        df1.columns = ['group','value']\n",
    "        df1 = df1.pivot_table(columns = ['group'])\n",
    "        df1['diff'] = df1['test'] - df1['cntrl']\n",
    "        df1['delta'] = df1['diff'] > 0\n",
    "\n",
    "        return df1\n",
    "\n",
    "    def measuring(self, data, iteration):\n",
    "        \n",
    "        # 3. get all bootstrapped data\n",
    "\n",
    "        bootstrapped = pd.concat([self.resampling(dataframe = data, i = i) for i in range(0, iteration)])\n",
    "        bootstrapped.index = np.arange(0, bootstrapped.shape[0])\n",
    "\n",
    "\n",
    "        plt.figure()\n",
    "        ax = sns.distplot(bootstrapped['test'], label = 'test', hist = False, color = 'blue')\n",
    "        ax = sns.distplot(bootstrapped['cntrl'], label = 'control', hist = False, color = 'orange')\n",
    "        ax.set_ylabel('Frequency across bootstrapped samples')\n",
    "        ax.set_xlabel('Conversion')\n",
    "        plt.legend()\n",
    "        plt.show()\n",
    "\n",
    "        # 4. calculate p-value and confidence interval\n",
    "\n",
    "        p_value = 1 - bootstrapped['delta'].mean()\n",
    "\n",
    "        print('p-value: ', '{:0.5f}'.format(p_value))\n",
    "        if p_value < 0.05:\n",
    "            print('Mean difference in conversion is significant at 0.05 level')\n",
    "        else: print('Mean difference in conversion is NOT significant at 0.05 level')\n",
    "\n",
    "        lower, upper = sm.stats.DescrStatsW(bootstrapped['delta']).tconfint_mean()\n",
    "        print('95% confidence interval', '[{:0.5f}, {:0.5f}]'.format(lower, upper))"
   ]
  },
  {
   "cell_type": "code",
   "execution_count": 7,
   "metadata": {},
   "outputs": [
    {
     "data": {
      "image/png": "[encoded data removed]",
      "text/plain": [
       "<Figure size 432x288 with 1 Axes>"
      ]
     },
     "metadata": {
      "needs_background": "light"
     },
     "output_type": "display_data"
    },
    {
     "name": "stdout",
     "output_type": "stream",
     "text": [
      "p-value:  0.04460\n",
      "Mean difference in conversion is significant at 0.05 level\n",
      "95% confidence interval [0.94968, 0.96112]\n"
     ]
    }
   ],
   "source": [
    "b = bootstrapping()\n",
    "b.measuring(data, 5000)"
   ]
  },
  {
   "cell_type": "code",
   "execution_count": 8,
   "metadata": {},
   "outputs": [
    {
     "data": {
      "image/png": "[encoded data removed]",
      "text/plain": [
       "<Figure size 432x288 with 1 Axes>"
      ]
     },
     "metadata": {
      "needs_background": "light"
     },
     "output_type": "display_data"
    },
    {
     "name": "stdout",
     "output_type": "stream",
     "text": [
      "p-value:  0.04343\n",
      "Mean difference in conversion is significant at 0.05 level\n",
      "95% confidence interval [0.95180, 0.96135]\n"
     ]
    }
   ],
   "source": [
    "b = bootstrapping()\n",
    "b.measuring(data, 7000)"
   ]
  },
  {
   "cell_type": "code",
   "execution_count": null,
   "metadata": {},
   "outputs": [],
   "source": []
  }
 ],
 "metadata": {
  "kernelspec": {
   "display_name": "Python 3",
   "language": "python",
   "name": "python3"
  },
  "language_info": {
   "codemirror_mode": {
    "name": "ipython",
    "version": 3
   },
   "file_extension": ".py",
   "mimetype": "text/x-python",
   "name": "python",
   "nbconvert_exporter": "python",
   "pygments_lexer": "ipython3",
   "version": "3.7.4"
  }
 },
 "nbformat": 4,
 "nbformat_minor": 2
}
